{
 "cells": [
  {
   "cell_type": "code",
   "execution_count": 1,
   "metadata": {},
   "outputs": [
    {
     "name": "stdout",
     "output_type": "stream",
     "text": [
      "Generated Password: eH|{s4p]/`Z4\n"
     ]
    }
   ],
   "source": [
    "import random\n",
    "import string\n",
    "\n",
    "def generate_password(length=12):\n",
    "    uppercase_letters = string.ascii_uppercase\n",
    "    lowercase_letters = string.ascii_lowercase\n",
    "    digits = string.digits\n",
    "    special_characters = string.punctuation\n",
    "\n",
    "    all_characters = uppercase_letters + lowercase_letters + digits + special_characters\n",
    "\n",
    "    if length < 4:\n",
    "        print(\"Password length must be at least 4.\")\n",
    "        return None\n",
    "\n",
    "    password = [random.choice(uppercase_letters),\n",
    "                random.choice(lowercase_letters),\n",
    "                random.choice(digits),\n",
    "                random.choice(special_characters)]\n",
    "\n",
    "    for _ in range(length - 4):\n",
    "        password.append(random.choice(all_characters))\n",
    "\n",
    "    random.shuffle(password)\n",
    "\n",
    "    password_str = ''.join(password)\n",
    "\n",
    "    return password_str\n",
    "\n",
    "generated_password = generate_password()\n",
    "print(\"Generated Password:\", generated_password)\n",
    "\n"
   ]
  },
  {
   "cell_type": "code",
   "execution_count": null,
   "metadata": {},
   "outputs": [],
   "source": []
  }
 ],
 "metadata": {
  "kernelspec": {
   "display_name": "Python 3",
   "language": "python",
   "name": "python3"
  },
  "language_info": {
   "codemirror_mode": {
    "name": "ipython",
    "version": 3
   },
   "file_extension": ".py",
   "mimetype": "text/x-python",
   "name": "python",
   "nbconvert_exporter": "python",
   "pygments_lexer": "ipython3",
   "version": "3.8.5"
  }
 },
 "nbformat": 4,
 "nbformat_minor": 4
}
